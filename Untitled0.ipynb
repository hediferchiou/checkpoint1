{
  "nbformat": 4,
  "nbformat_minor": 0,
  "metadata": {
    "colab": {
      "name": "Untitled0.ipynb",
      "provenance": []
    },
    "kernelspec": {
      "name": "python3",
      "display_name": "Python 3"
    },
    "language_info": {
      "name": "python"
    }
  },
  "cells": [
    {
      "cell_type": "code",
      "metadata": {
        "colab": {
          "base_uri": "https://localhost:8080/"
        },
        "id": "EAtsAMauWQGJ",
        "outputId": "b54c1fbb-6614-451e-9bdf-c7d9cbdc1e1b"
      },
      "source": [
        "print(\"Bienvenue dans le monde python ! Commençons à coder\")"
      ],
      "execution_count": 1,
      "outputs": [
        {
          "output_type": "stream",
          "text": [
            "Bienvenue dans le monde python ! Commençons à coder\n"
          ],
          "name": "stdout"
        }
      ]
    }
  ]
}